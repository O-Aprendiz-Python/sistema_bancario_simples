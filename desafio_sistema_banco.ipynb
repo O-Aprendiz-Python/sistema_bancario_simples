{
 "cells": [
  {
   "cell_type": "code",
   "execution_count": 13,
   "metadata": {},
   "outputs": [
    {
     "name": "stdout",
     "output_type": "stream",
     "text": [
      "\n",
      "        ########## MENU ##########\n",
      "        #                        #\n",
      "        #  1 - Deposito          #\n",
      "        #  2 - Saque             #\n",
      "        #  3 - Extrato           #\n",
      "        #                        #\n",
      "        ##########################\n",
      "         \n",
      "        \n",
      "Saldo atual: 1900.00\n",
      "Saldo atual: 1930.00\n",
      "[2000, 'Saque de: R$100.00. Total de: R$1900.00', 'Deposito de: R$30.00. Total de: R$1930.00']\n"
     ]
    },
    {
     "ename": "ValueError",
     "evalue": "invalid literal for int() with base 10: ''",
     "output_type": "error",
     "traceback": [
      "\u001b[1;31m---------------------------------------------------------------------------\u001b[0m",
      "\u001b[1;31mValueError\u001b[0m                                Traceback (most recent call last)",
      "Cell \u001b[1;32mIn[13], line 20\u001b[0m\n\u001b[0;32m     17\u001b[0m extrato \u001b[39m=\u001b[39m [saldo]\n\u001b[0;32m     18\u001b[0m \u001b[39mwhile\u001b[39;00m \u001b[39mTrue\u001b[39;00m:\n\u001b[1;32m---> 20\u001b[0m     opcao \u001b[39m=\u001b[39m \u001b[39mint\u001b[39;49m(\u001b[39minput\u001b[39;49m(\u001b[39m\"\u001b[39;49m\u001b[39mDigite a opcao desejada: \u001b[39;49m\u001b[39m\"\u001b[39;49m))\n\u001b[0;32m     22\u001b[0m     \u001b[39mif\u001b[39;00m(opcao \u001b[39m==\u001b[39m \u001b[39m0\u001b[39m):\n\u001b[0;32m     23\u001b[0m         \u001b[39mbreak\u001b[39;00m\n",
      "\u001b[1;31mValueError\u001b[0m: invalid literal for int() with base 10: ''"
     ]
    }
   ],
   "source": [
    "saldo = 2000\n",
    "qtd_saque = 0\n",
    "\n",
    "menu = \"\"\"\n",
    "        ########## MENU ##########\n",
    "        #                        #\n",
    "        #  1 - Deposito          #\n",
    "        #  2 - Saque             #\n",
    "        #  3 - Extrato           #\n",
    "        #                        #\n",
    "        ##########################\n",
    "         \n",
    "        \"\"\"\n",
    "print(menu)\n",
    "\n",
    "opcao = -1\n",
    "extrato = [saldo]\n",
    "while True:\n",
    "\n",
    "    opcao = int(input(\"Digite a opcao desejada: \"))\n",
    "\n",
    "    if(opcao == 0):\n",
    "        break\n",
    "\n",
    "    elif (opcao == 1):\n",
    "        deposito = int(input(\"\\nInforme o valor que deseja depositar: \"))\n",
    "        if (deposito <= 0):\n",
    "            print(\"Não é possível depositar este valor.\")\n",
    "            \n",
    "        else:\n",
    "            saldo += deposito\n",
    "            extrato.append(f\"Deposito de: R${deposito:.2f}. Total de: R${saldo:.2f}\")\n",
    "            print(f\"Saldo atual: {saldo:.2f}\")\n",
    "\n",
    "    elif (opcao == 2):\n",
    "        saque = int(input(\"Informe o valor que deseja sacar: \"))\n",
    "        \n",
    "        if (qtd_saque == 3):\n",
    "            print(\"Não é possível realizar mais de 3 saques diários.\")\n",
    "        elif (saque > 500):\n",
    "            print(\"Não é possível realizar saques superiores à R$500.\")\n",
    "        elif (saque > saldo):\n",
    "            print(\"Saldo insuficiente.\")\n",
    "        else:\n",
    "            qtd_saque += 1\n",
    "            saldo -= saque\n",
    "            extrato.append(f\"Saque de: R${saque:.2f}. Total de: R${saldo:.2f}\")\n",
    "            print(f\"Saldo atual: {saldo:.2f}\")\n",
    "\n",
    "    elif (opcao == 3):\n",
    "        print(extrato)\n",
    "\n",
    "    else:\n",
    "        print(\"Operação inválida, por favor selecione uma operação válida.\")\n",
    "\n",
    "\n",
    "\n"
   ]
  }
 ],
 "metadata": {
  "kernelspec": {
   "display_name": "Python 3",
   "language": "python",
   "name": "python3"
  },
  "language_info": {
   "codemirror_mode": {
    "name": "ipython",
    "version": 3
   },
   "file_extension": ".py",
   "mimetype": "text/x-python",
   "name": "python",
   "nbconvert_exporter": "python",
   "pygments_lexer": "ipython3",
   "version": "3.10.9"
  },
  "orig_nbformat": 4,
  "vscode": {
   "interpreter": {
    "hash": "3b7e9cb8e453d6cda0fe8c8dd13f891a1f09162f0e7c66ffeae7751a7aecf00d"
   }
  }
 },
 "nbformat": 4,
 "nbformat_minor": 2
}
